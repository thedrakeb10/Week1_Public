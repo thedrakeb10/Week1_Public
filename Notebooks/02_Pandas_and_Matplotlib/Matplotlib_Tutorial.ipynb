{
 "cells": [
  {
   "cell_type": "markdown",
   "metadata": {
    "colab_type": "text",
    "id": "PgH8fomAO-up"
   },
   "source": [
    "# Matplotlib\n",
    "\n",
    "Visualization plays an essential role in both analyzing data and sharing results. One widely used python library for visualization is Matplotlib. If you have time, the full documentation for Matplotlib is available on the website https://matplotlib.org/contents.html, but this notebook should serve as a tutorial for the basic features relevant to Medlytics."
   ]
  },
  {
   "cell_type": "markdown",
   "metadata": {
    "colab_type": "text",
    "id": "TVNXU3ALMbMW"
   },
   "source": [
    "## Simple First Graph\n",
    "As with any python library, the first step is to import the required modules. We will start with the submodule \"pyplot,\" which provides an interface for basic plotting. We will also import numpy, which you may recognize. This is a scientific computing module that is used a lot in this course."
   ]
  },
  {
   "cell_type": "code",
   "execution_count": null,
   "metadata": {
    "colab": {},
    "colab_type": "code",
    "id": "0TThIVRFOxhj"
   },
   "outputs": [],
   "source": [
    "import matplotlib.pyplot as plt\n",
    "import numpy as np\n",
    "import pandas as pd"
   ]
  },
  {
   "cell_type": "markdown",
   "metadata": {
    "colab_type": "text",
    "id": "ZXNw8ppYNkgt"
   },
   "source": [
    "For our first figure, we will plot a few arbitrary points and then apply some labels. Note that the arguments for \"plot\" are two lists of equal size, representing X and Y values. The notebook will automatically render the figure for us, but in stand-alone python code, the call to \"plt.show()\" becomes necessary."
   ]
  },
  {
   "cell_type": "code",
   "execution_count": null,
   "metadata": {
    "colab": {
     "base_uri": "https://localhost:8080/",
     "height": 295
    },
    "colab_type": "code",
    "id": "nwUO7yONPgW8",
    "outputId": "7eeaa471-995c-49af-dded-0ca6483a295a"
   },
   "outputs": [],
   "source": [
    "# Plot some (X,Y) data points, defined manually\n",
    "plt.plot([0,1,2,3,4], [1, 1.5, 2, 2.5, 3])\n",
    "# Add labels to the current figure\n",
    "plt.xlabel('X label')\n",
    "plt.ylabel('Y label')\n",
    "plt.title('Plot Points')\n",
    "# Display the figure - not necessary in a jupyter notebook\n",
    "plt.show()"
   ]
  },
  {
   "cell_type": "markdown",
   "metadata": {
    "colab_type": "text",
    "id": "qOV_uJEiQP0n"
   },
   "source": [
    "## Figures and Subplots\n",
    "You may have noticed the lack of reference to a figure object. Figures in Matplotlib are tracked behind the scenes, and only the \"current\" figure can be modified. Since we didn't specify a figure, the default figure number (1) was used. We can create a new figure at a specific number with:"
   ]
  },
  {
   "cell_type": "code",
   "execution_count": null,
   "metadata": {
    "colab": {
     "base_uri": "https://localhost:8080/",
     "height": 55
    },
    "colab_type": "code",
    "id": "v1jfCu73XKCZ",
    "outputId": "61cfab64-0913-47dd-bb29-b9775a1b6d04"
   },
   "outputs": [],
   "source": [
    "plt.figure(1)"
   ]
  },
  {
   "cell_type": "markdown",
   "metadata": {
    "colab_type": "text",
    "id": "OHwvgL02Uaqp"
   },
   "source": [
    "Notice that this time, nothing was rendered. This is because the new figure 1 doesn't have any axes. Calling something like \"plot\" will generate axes automatically. Another option is to generate axes explicitly, which will give us greater control. For example, the \"plt.subplot()\" function allows us to have multiple sets of axes on the same figure. Note that each call to subplot will only create one set of axes."
   ]
  },
  {
   "cell_type": "markdown",
   "metadata": {
    "colab_type": "text",
    "id": "RwpegUIVWCUb"
   },
   "source": [
    "For our example subplots, we will be using some arbitrary numpy array data. Note that for the first subplot axes we are passing multiple sets of (X,Y) data, and that each data argument pair is followed by a formatting argument."
   ]
  },
  {
   "cell_type": "code",
   "execution_count": null,
   "metadata": {
    "colab": {
     "base_uri": "https://localhost:8080/",
     "height": 281
    },
    "colab_type": "code",
    "id": "NgIozDmwVaf2",
    "outputId": "8c8e19a1-1b12-4cd5-b9f1-5f27de4718bd"
   },
   "outputs": [],
   "source": [
    "plt.subplot(1,2,1) # 1 row, 2 columns, select subaxes number 1\n",
    "# Pass multiple numpy arrays as arguments to plt.plot\n",
    "x = np.arange(0, 10)\n",
    "y = np.arange(0, 10)\n",
    "y2 = np.arange(2, 12)\n",
    "plt.plot(x, y, 'r-', x, y2, 'bs') # formatting: r:red -:line, b:blue s:square\n",
    "plt.title(\"Fig Num 1\")\n",
    "\n",
    "plt.subplot(1,2,2)  # 1 row, 2 columns, figure number 2\n",
    "plt.plot(x, y, 'bo')  # formatting: b:blue o:circle\n",
    "plt.title(\"Fig Num 2\")\n",
    "\n",
    "plt.show()"
   ]
  },
  {
   "cell_type": "markdown",
   "metadata": {
    "colab_type": "text",
    "id": "cbWL64-yQP2g"
   },
   "source": [
    "In our final example, we will use a different function to generate multiple axes: plt.subplots(), which generates all axes at the same time. In order to track these axes, we will save the output of the function to some variables. We could have been doing this in previous examples, but so far we haven't needed to modify anything other than the current axes. Also note that the first output returned from subplots is actually the figure itself. We can use this saved figure to call \"show(),\" which will ensure only this figure is rendered.\n"
   ]
  },
  {
   "cell_type": "code",
   "execution_count": null,
   "metadata": {
    "colab": {
     "base_uri": "https://localhost:8080/",
     "height": 1000
    },
    "colab_type": "code",
    "id": "y5sjzvO7RyjZ",
    "outputId": "40ea3e7a-9782-4ab4-c85c-72e874576064"
   },
   "outputs": [],
   "source": [
    "# Generate some numpy data to plot\n",
    "x = np.arange(0,5, .05)\n",
    "y = np.sin(x ** 2)\n",
    "# Create a new set of axes, and a new figure in the process\n",
    "fig, (ax1, ax2) = plt.subplots(1, 2)  # 1 row, 2 columns\n",
    "ax1.plot(x, y)\n",
    "ax1.set_title('ax1')\n",
    "ax2.plot(x, y, 'ro')\n",
    "ax2.set_title('ax2')\n",
    "\n",
    "fig.show()"
   ]
  },
  {
   "cell_type": "markdown",
   "metadata": {
    "colab_type": "text",
    "id": "LjsMKBV1zAAm"
   },
   "source": [
    "The Matplotlib documentation mentioned above contains a lot more tutorial content, such as for pyplot:\n",
    "\n",
    "https://matplotlib.org/users/pyplot_tutorial.html"
   ]
  },
  {
   "cell_type": "markdown",
   "metadata": {
    "colab_type": "text",
    "id": "W2hs5e-uKRiu"
   },
   "source": [
    "# Seaborn\n",
    "\n",
    "Seaborn is just another data visualization library that's based on matplotlib. It provides a high-level interface for drawing attractive and informative statistical graphics. Here are a few examples of how you can use it:"
   ]
  },
  {
   "cell_type": "code",
   "execution_count": null,
   "metadata": {
    "colab": {
     "base_uri": "https://localhost:8080/",
     "height": 264
    },
    "colab_type": "code",
    "id": "Qix96eG7KRiv",
    "outputId": "21065397-b3ee-4271-e804-829bf3ca9f13"
   },
   "outputs": [],
   "source": [
    "import seaborn as sns\n",
    "\n",
    "data = pd.read_csv(\"https://raw.githubusercontent.com/BeaverWorksMedlytics2020/Data_Public/master/NotebookExampleData/Week1/BWSI_Dataset1.csv\")\n",
    "data.head()"
   ]
  },
  {
   "cell_type": "code",
   "execution_count": null,
   "metadata": {
    "colab": {
     "base_uri": "https://localhost:8080/",
     "height": 1000
    },
    "colab_type": "code",
    "id": "EbsN0S42KRi0",
    "outputId": "93d16ded-6f2f-448b-d883-e2883ef53b01"
   },
   "outputs": [],
   "source": [
    "# distribution of age using seaborn\n",
    "sns.distplot(data['Age'], kde=True) #More info on seaborn.distplot(...) here: https://seaborn.pydata.org/generated/seaborn.distplot.html\n",
    "plt.xlabel('Age')\n",
    "plt.ylabel('Density')"
   ]
  },
  {
   "cell_type": "code",
   "execution_count": null,
   "metadata": {
    "colab": {
     "base_uri": "https://localhost:8080/",
     "height": 1000
    },
    "colab_type": "code",
    "id": "8DWnINyaKRi4",
    "outputId": "9a57fc54-6f06-4f8b-d0d2-70a192a8a69b"
   },
   "outputs": [],
   "source": [
    "# boxplot of age \n",
    "sns.boxplot('Age', data = data) #More info on seaborn.boxplot(...) here: https://seaborn.pydata.org/generated/seaborn.boxplot.html\n",
    "plt.xlabel('Age')"
   ]
  },
  {
   "cell_type": "code",
   "execution_count": null,
   "metadata": {
    "colab": {
     "base_uri": "https://localhost:8080/",
     "height": 1000
    },
    "colab_type": "code",
    "id": "b3pgKkfTKRi7",
    "outputId": "852c176f-5edf-40fe-f8f9-fb7b26c96d12"
   },
   "outputs": [],
   "source": [
    "# frequency of sex using seaborn\n",
    "sns.countplot(x = 'Sex', data = data) \n",
    "plt.xticks(np.arange(2), labels = ('Male', 'Female'), rotation = 0)\n",
    "plt.xlabel('Sex')"
   ]
  },
  {
   "cell_type": "code",
   "execution_count": null,
   "metadata": {
    "colab": {
     "base_uri": "https://localhost:8080/",
     "height": 1000
    },
    "colab_type": "code",
    "id": "yeIEwfr9KRjA",
    "outputId": "ddfd7857-f96c-4c8a-b1ea-510b33334b9b"
   },
   "outputs": [],
   "source": [
    "sns.set(rc={'figure.figsize':(18, 18)}) # bigger figures\n",
    "sns.heatmap(data.corr(), annot = True) # creating a heatmap of all variables in the data set\n",
    "#More info on seaborn.heatmap(...) here: https://seaborn.pydata.org/generated/seaborn.heatmap.html"
   ]
  },
  {
   "cell_type": "code",
   "execution_count": null,
   "metadata": {
    "colab": {
     "base_uri": "https://localhost:8080/",
     "height": 221
    },
    "colab_type": "code",
    "id": "bwuz_f5SKRjD",
    "outputId": "c755a948-3328-4edc-be9f-645dfbaf570f"
   },
   "outputs": [],
   "source": [
    "g = sns.FacetGrid(data, col = 'Sex') # facet distribution plots by sex\n",
    "g = g.map(sns.kdeplot, 'Age')"
   ]
  },
  {
   "cell_type": "code",
   "execution_count": null,
   "metadata": {
    "colab": {
     "base_uri": "https://localhost:8080/",
     "height": 1000
    },
    "colab_type": "code",
    "id": "ZcUNc6iaKRjI",
    "outputId": "1b2cbce1-a25b-45ca-9d9e-e22903008619"
   },
   "outputs": [],
   "source": [
    "# pairwise plots only for selected variables\n",
    "sns.pairplot(data, vars =['Age', 'ParentEducation', 'HouseIncome', 'BMI', 'BloodPres', 'HoursTV'], hue=\"Sex\")\n",
    "#More info on seaborn.pairplot(...) here: https://seaborn.pydata.org/generated/seaborn.pairplot.html"
   ]
  },
  {
   "cell_type": "code",
   "execution_count": null,
   "metadata": {
    "colab": {
     "base_uri": "https://localhost:8080/",
     "height": 34
    },
    "colab_type": "code",
    "id": "9ehXo2R4KRjN",
    "outputId": "51feb645-bc40-412c-dd8e-0be69fe19a3e"
   },
   "outputs": [],
   "source": [
    "# saving figures\n",
    "plt.savefig(\"figs.png\") #You can access the saved image on the left-hand side of your screen, where the Colab files are located"
   ]
  },
  {
   "cell_type": "markdown",
   "metadata": {
    "colab_type": "text",
    "id": "ry7-g0zA9gEi"
   },
   "source": [
    "## Exploratory Data Analysis\n",
    "\n",
    "Seaborn/Matplotlib is very effective for conducting **Exploratory Data Analysis (EDA)**. EDA and Data preparation are critical for having more effective ML models.\n",
    "EDA analysis can fall under three categories: Univariate, Bivariate, or Multivariate. These analyses can provide insight when manually choosing the most optimal features during Feature Selection."
   ]
  },
  {
   "cell_type": "markdown",
   "metadata": {
    "colab_type": "text",
    "id": "eObeLQRBdHV7"
   },
   "source": [
    "**Univariate analysis** means the analysis of data that has one variable. These are summary statistics that tell about the mean, variance, quartiles, and standard deviation, among others. Learning about the distribution of data through univariate analysis is a necessary step to measure the effectiveness of a ML algorithm's prediction."
   ]
  },
  {
   "cell_type": "code",
   "execution_count": null,
   "metadata": {
    "colab": {
     "base_uri": "https://localhost:8080/",
     "height": 320
    },
    "colab_type": "code",
    "id": "id_g4JSn5cp6",
    "outputId": "f3733d5b-90e1-4719-c8f7-54a94b854553"
   },
   "outputs": [],
   "source": [
    "data.describe() #provides (typically continuous) summary statistics for univariate analysis "
   ]
  },
  {
   "cell_type": "code",
   "execution_count": null,
   "metadata": {
    "colab": {
     "base_uri": "https://localhost:8080/",
     "height": 340
    },
    "colab_type": "code",
    "id": "V7Bqf8SQh8Vv",
    "outputId": "460c791c-bc6e-4a4b-aa37-45fbd2ac49c9"
   },
   "outputs": [],
   "source": [
    "#To find the descriptive statistics of Categorical Variables (which we don't have here. Example is still provided though): pandas.Series.value_counts()\n",
    "#value_counts() tells xplains how many counts there are for different categorical sub variables in a single Series. \n",
    "\n",
    "print(data.Age.value_counts()) #data.Age refers to the Age Series from the data Dataframe\n",
    "Years = data[\"Year\"]\n",
    "print(Years.value_counts())"
   ]
  },
  {
   "cell_type": "markdown",
   "metadata": {
    "colab_type": "text",
    "id": "SaMlGj_Vg0Vk"
   },
   "source": [
    "Now for making sense of these summary statistics. We will now implement visualizations of univariate analysis such as bar charts, line charts, and histograms. "
   ]
  },
  {
   "cell_type": "code",
   "execution_count": null,
   "metadata": {
    "colab": {
     "base_uri": "https://localhost:8080/",
     "height": 1000
    },
    "colab_type": "code",
    "id": "9SYgkq73k_o6",
    "outputId": "61698654-b276-45a2-9e68-819f5459d3cb"
   },
   "outputs": [],
   "source": [
    "#Histograms are often used to understand and visualize frequency distribution\n",
    "data.hist()\n",
    "plt.plot()"
   ]
  },
  {
   "cell_type": "markdown",
   "metadata": {
    "colab_type": "text",
    "id": "SEAHtp9-38Jr"
   },
   "source": [
    "There are a lot of different shapes to these histograms. Some can be explained easily: Subject ID is linear, and Height is more or less a Normal Distribution. If you didn't know, Normal Distribution is capitalized because it refers to a specific shape: the so-called bell curve. It is used to describe probability distributions with a fixed variance about the mean.\n",
    "\n",
    "Another thing you might notice is that some plots, such as MaritalStatus and HoursTV, seem to only have one or two bars, and they are clustered at 0. This suggests the presence of an **outlier** in these variables: a few values that are far outside the rest of the distribution. In the case of HoursTV, what do you notice about the axis?\n",
    "\n",
    "If we return to the table above, we see that 75% of the values for HoursTV are 4 or less, yet the maximum is 77. We might surmise that HoursTV should never exceed 24, and that the outlier of 77 is actually an invalid datum. Findings like this can help us **\"clean\"** our data by removing invalid entries, which will improve our modeling.\n",
    "\n",
    "For the age variable, the histogram is skewed to the right, such that the median is greater than the mean. Because Age doesn't fit a Normal Distribution, we need to **normalize** the data before inputting it to a machine learning algorithm. Once the data is Normal (like the Height variable is already), the next step is to **standardize** the data, so different variables are comparable. We will talk more about these steps later on."
   ]
  },
  {
   "cell_type": "markdown",
   "metadata": {
    "colab_type": "text",
    "id": "dNJzxO9FdL7Y"
   },
   "source": [
    "**Bivariate analysis** is conducted to determine the relationship between two variables. It aims to investigate how one variable impacts another. Examples include Scatterplots, Stacked Bar Charts, and Bivariate Line Charts. It is also very important for identifying which features to use. "
   ]
  },
  {
   "cell_type": "code",
   "execution_count": null,
   "metadata": {
    "colab": {
     "base_uri": "https://localhost:8080/",
     "height": 383
    },
    "colab_type": "code",
    "id": "4ShLg1kO1nqt",
    "outputId": "8d22a924-1774-4739-ad32-88be40624138"
   },
   "outputs": [],
   "source": [
    "data.head(10)"
   ]
  },
  {
   "cell_type": "code",
   "execution_count": null,
   "metadata": {
    "colab": {
     "base_uri": "https://localhost:8080/",
     "height": 314
    },
    "colab_type": "code",
    "id": "7XtjxJRXdi9U",
    "outputId": "b7646c80-4482-47a0-f480-a7fdfe2b577f"
   },
   "outputs": [],
   "source": [
    "\"\"\"\n",
    "pick the variables from the heatmap that provide some of the highest correlation values\n",
    "(For now, let's analyze linear relationships. Here is an intro to curvilinear relationships:\n",
    "https://www.analyticsvidhya.com/blog/2020/03/polynomial-regression-python/). \n",
    "\n",
    "For example, Protein and TotalFat has a correlation of 0.74, which is the highest r value\n",
    "among the other variables. But remember to check the correlation of other variables through\n",
    "a scatterplot to see how spread the data is.\n",
    "\n",
    "REMEMBER: Correlation DOES NOT equal Causation\n",
    "\n",
    "\"\"\" \n",
    "x = data[\"Protein\"]\n",
    "y = data[\"TotalFat\"]\n",
    "plt.scatter(x, y)\n",
    "plt.xlabel(\"Protein\")\n",
    "plt.ylabel(\"TotalFat\")\n",
    "plt.title(\"Scatter plot of Protein vs. TotalFat\")"
   ]
  },
  {
   "cell_type": "markdown",
   "metadata": {
    "colab_type": "text",
    "id": "-rOfe0mFdu5u"
   },
   "source": [
    "From the graph there is an apparent strong positive association between TotalFat and Protein. However, there seems to be an overplotting of points. Fortunately, we have a solution: create a hex plot!\n",
    "\n",
    "By Hex plotting, points in space are aggregated into hexagons, and the shading of the Hex plot are represented by the values."
   ]
  },
  {
   "cell_type": "code",
   "execution_count": null,
   "metadata": {
    "colab": {
     "base_uri": "https://localhost:8080/",
     "height": 1000
    },
    "colab_type": "code",
    "id": "n0hkh8oSdnVT",
    "outputId": "01ad27ac-1c55-4059-c23f-7917aa786981"
   },
   "outputs": [],
   "source": [
    "data.plot.hexbin(x = \"Protein\", y = \"TotalFat\", gridsize = 15, ec = \"r\", sharex=False)\n",
    "#For Reference: https://pandas.pydata.org/pandas-docs/stable/reference/api/pandas.DataFrame.plot.hexbin.html "
   ]
  },
  {
   "cell_type": "markdown",
   "metadata": {
    "colab_type": "text",
    "id": "3aruQ3PII75l"
   },
   "source": [
    "That's better. Now we can see the data surrounding 50 grams of TotalFat and around 60 grams of Protein. If the Data was more spread out, that would improve the effectiveness of the ML output!"
   ]
  },
  {
   "cell_type": "markdown",
   "metadata": {
    "colab_type": "text",
    "id": "S3idaZ-1NnFn"
   },
   "source": [
    "That's all for now! Here is more info if you want an intro to Multivariate Analysis: https://machinelearningmastery.com/visualize-machine-learning-data-python-pandas/"
   ]
  }
 ],
 "metadata": {
  "colab": {
   "collapsed_sections": [],
   "name": "Updated02_MatplotlibTutorial",
   "provenance": []
  },
  "kernelspec": {
   "display_name": "Python 3",
   "language": "python",
   "name": "python3"
  },
  "language_info": {
   "codemirror_mode": {
    "name": "ipython",
    "version": 3
   },
   "file_extension": ".py",
   "mimetype": "text/x-python",
   "name": "python",
   "nbconvert_exporter": "python",
   "pygments_lexer": "ipython3",
   "version": "3.7.3"
  }
 },
 "nbformat": 4,
 "nbformat_minor": 1
}
