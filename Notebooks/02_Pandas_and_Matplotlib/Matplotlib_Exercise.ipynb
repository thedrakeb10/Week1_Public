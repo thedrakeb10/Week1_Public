{
 "cells": [
  {
   "cell_type": "markdown",
   "metadata": {
    "colab_type": "text",
    "id": "62aBklHO062y"
   },
   "source": [
    "# Matplotlib Problem Set"
   ]
  },
  {
   "cell_type": "code",
   "execution_count": null,
   "metadata": {
    "colab": {},
    "colab_type": "code",
    "id": "5BPzhruU08-J"
   },
   "outputs": [],
   "source": [
    "import matplotlib.pyplot as plt\n",
    "import numpy as np\n",
    "import seaborn as sns\n",
    "import pandas as pd"
   ]
  },
  {
   "cell_type": "markdown",
   "metadata": {
    "colab_type": "text",
    "id": "5RSW40kR1Vzz"
   },
   "source": [
    "#### Below is the temperature in degrees Celsius for this day (July 10) in Boston from 1961 to 2010. Plot the temperature on the Y-Axis"
   ]
  },
  {
   "cell_type": "code",
   "execution_count": null,
   "metadata": {
    "colab": {},
    "colab_type": "code",
    "id": "4rqalSZf1Yjq"
   },
   "outputs": [],
   "source": [
    "temp_boston = [17.8, 22.8, 17.5, 16.4, 23.35, 25.3, 27.25, 24.45, 22.5, 23.6, 26.7, 22.75, 21.95, 26.4,\n",
    "23.05, 22.5, 21.1, 26.1, 23.9, 20.25, 27.8, 23.9, 21.7, 19.7, 25.0, 21.4, 21.1, 27.8, 22.25, 27.25, \n",
    "23.35, 25.0, 30.0, 25.8, 23.6, 22.5,19.15, 22.8, 23.6, 25.0, 20.8, 21.4, 18.6, 23.05, 25.0, 25.0,\n",
    "18.35, 25.3, 18.6]"
   ]
  },
  {
   "cell_type": "code",
   "execution_count": null,
   "metadata": {
    "colab": {
     "base_uri": "https://localhost:8080/",
     "height": 364
    },
    "colab_type": "code",
    "id": "7FwkcZzK1b-s",
    "outputId": "6341d346-2671-4338-9426-145d75fde3e8"
   },
   "outputs": [],
   "source": [
    "## YOUR CODE HERE"
   ]
  },
  {
   "cell_type": "markdown",
   "metadata": {
    "colab_type": "text",
    "id": "IqPLuWxZ10ZB"
   },
   "source": [
    "#### Below is the temperature in degrees Celsius for this day (July 10) in New York from 1961 to 2010. Plot the temperatures of New York and Boston on the same graph in different colors"
   ]
  },
  {
   "cell_type": "code",
   "execution_count": null,
   "metadata": {
    "colab": {},
    "colab_type": "code",
    "id": "LDu1bMEy1gM6"
   },
   "outputs": [],
   "source": [
    "temp_new_york =[23.35, 25.25, 20.25, 22.25, 25.85, 25.85, 25.55, 24.2, 22.5, 23.9, 28.3, 22.8, 26.7,\n",
    "29.7, 23.6, 22.8, 23.05, 26.7, 20.3, 23.65, 28.05, 25.0, 21.4, 21.35, 26.1, 25.25, 28.35, 25.85, 27.5,\n",
    "26.4, 21.7, 27.2, 32.25, 28.3, 22.5, 23.05, 22.8, 25.0, 24.7, 27.5, 25.85, 24.45, 20.0, 24.15, 26.95,\n",
    "22.5, 25.85, 27.25, 19.4]"
   ]
  },
  {
   "cell_type": "code",
   "execution_count": null,
   "metadata": {
    "colab": {
     "base_uri": "https://localhost:8080/",
     "height": 279
    },
    "colab_type": "code",
    "id": "PF0sY5F013tJ",
    "outputId": "6869a9f8-5db2-4842-c6da-9c703d371772"
   },
   "outputs": [],
   "source": [
    "## YOUR CODE HERE"
   ]
  },
  {
   "cell_type": "markdown",
   "metadata": {
    "colab_type": "text",
    "id": "sNTQP1WC17TT"
   },
   "source": [
    "#### Plot the temperatures of New York and Boston on different graphs in the same figure¶"
   ]
  },
  {
   "cell_type": "code",
   "execution_count": null,
   "metadata": {
    "colab": {
     "base_uri": "https://localhost:8080/",
     "height": 282
    },
    "colab_type": "code",
    "id": "vMLUmGgX18ZM",
    "outputId": "81cbf334-a4b5-4637-e936-88694ed490ca"
   },
   "outputs": [],
   "source": [
    "## YOUR CODE HERE"
   ]
  },
  {
   "cell_type": "markdown",
   "metadata": {
    "colab_type": "text",
    "id": "GcAKU8n-lLFc"
   },
   "source": [
    "### Univariate Analysis:"
   ]
  },
  {
   "cell_type": "code",
   "execution_count": null,
   "metadata": {
    "colab": {
     "base_uri": "https://localhost:8080/",
     "height": 170
    },
    "colab_type": "code",
    "id": "KBp3-kGns6LM",
    "outputId": "2b3cc01a-908c-42e0-e2e6-fe849d376707"
   },
   "outputs": [],
   "source": [
    "\"\"\"Let's revisit the Dataset_1 again. Read the csv file https://raw.githubusercontent.com/bwsimedlytics/Week1Public/master/BWSI_Dataset1.csv into a dataframe\n",
    "and print the first 7 rows\"\"\"\n",
    "\n",
    "## YOUR CODE HERE"
   ]
  },
  {
   "cell_type": "code",
   "execution_count": null,
   "metadata": {
    "colab": {
     "base_uri": "https://localhost:8080/",
     "height": 333
    },
    "colab_type": "code",
    "id": "ub7tLlnjtxCA",
    "outputId": "8eed255b-7805-469c-ff6c-476778b14e6f"
   },
   "outputs": [],
   "source": [
    "\"\"\"Conduct a Univariate Analysis of the participants' Cholesterol. What is noticeable about it? Create a function\n",
    "that makes the participants' Cholesterol more Normal and create two visualizations, \n",
    "one before the Chol data is modified, and one after Chol data is nmodified to be more Normal than before.\"\"\"\n",
    "\n",
    "## YOUR CODE HERE\n",
    "\n",
    "def more_Normal(dataframe, column): \n",
    "  ## YOUR CODE HERE\n",
    "  return y\n",
    "\n",
    "axs3.boxplot(more_Normal(data,\"Chol\"))\n",
    "plt.hist(more_Normal(data,\"Chol\")) #better representation of data, more Normal than before, now not as strongly skewed\n",
    "\n",
    "#Hint: which data visualization shows the outliers?"
   ]
  },
  {
   "cell_type": "code",
   "execution_count": null,
   "metadata": {
    "colab": {
     "base_uri": "https://localhost:8080/",
     "height": 590
    },
    "colab_type": "code",
    "id": "w5tGZu0zP4jE",
    "outputId": "5245d537-87dd-4d72-934a-a7449186b54c"
   },
   "outputs": [],
   "source": [
    "\"\"\"Conduct a Bivariate Analysis for Protein and Chol. What is familar about this compared to the tutorial? What is another \n",
    "way to deal with overplotting other than the Hex plot? Create two data visualizations, one that shows the overplotting, the other that \n",
    "resolves this issue. After you are done, play around with the sns.kdeplot function or try to create a 3D graph to reduce the effects of overplotting.\"\"\"\n",
    "\n",
    "## YOUR CODE HERE"
   ]
  },
  {
   "cell_type": "code",
   "execution_count": null,
   "metadata": {
    "colab": {
     "base_uri": "https://localhost:8080/",
     "height": 300
    },
    "colab_type": "code",
    "id": "gPjN4_wVSBwr",
    "outputId": "ff3f7b8a-b816-4c52-bf7c-77fa76e82c7d"
   },
   "outputs": [],
   "source": [
    "sns.kdeplot(data[\"Protein\"], data[\"Chol\"], cmap=\"Reds\", shade=True, clip=(2000, 250))"
   ]
  }
 ],
 "metadata": {
  "colab": {
   "collapsed_sections": [],
   "name": "UpdatedMatplotlibProblemSetSolutions.ipynb",
   "provenance": []
  },
  "kernelspec": {
   "display_name": "Python 3",
   "language": "python",
   "name": "python3"
  },
  "language_info": {
   "codemirror_mode": {
    "name": "ipython",
    "version": 3
   },
   "file_extension": ".py",
   "mimetype": "text/x-python",
   "name": "python",
   "nbconvert_exporter": "python",
   "pygments_lexer": "ipython3",
   "version": "3.7.3"
  }
 },
 "nbformat": 4,
 "nbformat_minor": 1
}
