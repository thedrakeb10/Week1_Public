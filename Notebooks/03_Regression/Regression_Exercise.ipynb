{
 "cells": [
  {
   "cell_type": "markdown",
   "metadata": {
    "colab_type": "text",
    "id": "xTfQvqbXr9G1"
   },
   "source": [
    "# Regression Exercises"
   ]
  },
  {
   "cell_type": "markdown",
   "metadata": {},
   "source": [
    "## Linear"
   ]
  },
  {
   "cell_type": "code",
   "execution_count": 2,
   "metadata": {
    "colab": {},
    "colab_type": "code",
    "id": "VohVqdqmr9G3"
   },
   "outputs": [],
   "source": [
    "# Loading data\n",
    "import pandas as pd\n",
    "import numpy as np\n",
    "from matplotlib import pyplot as plt\n",
    "\n",
    "# Read data from Github\n",
    "data_url = \"https://raw.githubusercontent.com/BeaverWorksMedlytics2020/Data_Public/master/NotebookExampleData/Week1/ex1data2.txt\"\n",
    "data_array = np.genfromtxt(data_url, delimiter=',')\n",
    "\n",
    "# The columns in this data set are define as folows:\n",
    "\"\"\"\n",
    "    0 = floor area\n",
    "    1 = number of bedrooms\n",
    "    2 = sale price\n",
    "\"\"\"\n",
    "    \n",
    "# store the relevant columns in more descriptive variables\n",
    "x_sqft = data_array[:,0]\n",
    "y_value = data_array[:,2]"
   ]
  },
  {
   "cell_type": "markdown",
   "metadata": {
    "colab_type": "text",
    "id": "bubHPtJ5r9G-"
   },
   "source": [
    "Here we'll build off of the tutorial exercise, first finding the best linear fit for floor area (sqft) vs valued price (USD). Recall that setting the derivative = 0 and solving for 𝑏 & 𝑚 produces formula for the best fit trend:\n",
    "$$ m = \\frac{\\sum^n_{i=1} (x_i-x_{mean})(y_i-y_{mean})}{\\sum^n_{i=1} (x_i-x_{mean})^2} $$\n",
    "$$ b = y_{mean}-m*x_{mean} $$"
   ]
  },
  {
   "cell_type": "code",
   "execution_count": null,
   "metadata": {
    "colab": {},
    "colab_type": "code",
    "id": "HaPeEPN8r9HA"
   },
   "outputs": [],
   "source": [
    "def find_best_fit(xx,yy):\n",
    "    '''\n",
    "      This function finds the best linear fit for yy vs xx\n",
    "    '''\n",
    "  \n",
    "    ## YOUR CODE HERE"
   ]
  },
  {
   "cell_type": "code",
   "execution_count": null,
   "metadata": {
    "colab": {},
    "colab_type": "code",
    "id": "mfZ7t4F9r9HH"
   },
   "outputs": [],
   "source": [
    "# Use your function to show the best fit values for our data\n",
    "(mm,bb) = find_best_fit(x_sqft, y_value)\n",
    "fit_str = 'y = {aa:.1f}x + {bb:.1f}'\n",
    "print(fit_str.format(aa=mm,bb=bb))"
   ]
  },
  {
   "cell_type": "markdown",
   "metadata": {
    "colab_type": "text",
    "id": "jVYEfrpsr9HN"
   },
   "source": [
    "Now we have the best fit trend line that minimizes total error for our data, let's try plotting it and see what it looks like. Since its just an equation, we need to *sample* the curve in order to plot it. To do this, we'll find the difference between the largest and smallest floor area, and divide it into 100 sample points."
   ]
  },
  {
   "cell_type": "code",
   "execution_count": null,
   "metadata": {
    "colab": {},
    "colab_type": "code",
    "id": "dZARuzL7r9HO"
   },
   "outputs": [],
   "source": [
    "# Plot the data\n",
    "\n",
    "# Sample the range from minimum to maximum sqft to get 100 points\n",
    "\n",
    "# Apply the best fit equation to each sample point and plot the result"
   ]
  },
  {
   "cell_type": "markdown",
   "metadata": {
    "colab_type": "text",
    "id": "ywlWE2xtr9HU"
   },
   "source": [
    "1: Given these parameters, how much should a house with 1600 sqft cost?\n",
    "\n",
    "(YOUR ANSWER HERE)"
   ]
  },
  {
   "cell_type": "markdown",
   "metadata": {
    "colab_type": "text",
    "id": "J4rZ9L_Rr9HV"
   },
   "source": [
    "2: From the dataset, how much did a house with 1600 sqft actually cost?\n",
    "\n",
    "(YOUR ANSWER HERE)"
   ]
  },
  {
   "cell_type": "markdown",
   "metadata": {
    "colab_type": "text",
    "id": "KTZMjw7rr9HW"
   },
   "source": [
    "3: Assuming the current 1600 sqft house would sell for as much as the historical one, how much money would we have lost? What percentage of the total price is this?\n",
    "\n",
    "(YOUR ANSWER HERE)"
   ]
  },
  {
   "cell_type": "markdown",
   "metadata": {
    "colab_type": "text",
    "id": "UN9zGe6Mr9HY"
   },
   "source": [
    "Now compare the values for 𝑚 and 𝑏 that sklearn generated in the tutorial notebook with the values that you found just now with your function. Hopefully they match."
   ]
  },
  {
   "cell_type": "code",
   "execution_count": null,
   "metadata": {
    "colab": {},
    "colab_type": "code",
    "id": "CDw75BJrr9HZ",
    "outputId": "f725594e-5540-4afa-d662-9f8e4fd2e4f7"
   },
   "outputs": [
    {
     "name": "stdout",
     "output_type": "stream",
     "text": [
      "Sklearn: 134.52528772 71270.492448729\n"
     ]
    }
   ],
   "source": [
    "print(\"Sklearn:\",134.52528772, 71270.492448729)\n",
    "print(\"My function:\",mm,bb)"
   ]
  },
  {
   "cell_type": "markdown",
   "metadata": {
    "colab_type": "text",
    "id": "L5R8SjF9r9Hf"
   },
   "source": [
    "---\n",
    "Remember how despite adding an entire new variable, the $R^2$ value barely increased? Let's investigate this further by finding the correlation ($R^2$) value for a regression of square footage vs. number of bedrooms."
   ]
  },
  {
   "cell_type": "code",
   "execution_count": null,
   "metadata": {
    "colab": {},
    "colab_type": "code",
    "id": "gMPm_HXgr9Hg"
   },
   "outputs": [],
   "source": [
    "import sklearn.linear_model as lm\n",
    "\n",
    "## YOUR CODE HERE"
   ]
  },
  {
   "cell_type": "markdown",
   "metadata": {
    "colab_type": "text",
    "id": "7QT8aPEQr9Hl"
   },
   "source": [
    "Do 2 variables have to be verry correlated to reduce their effectiveness together?\n",
    "\n",
    "(YOUR ANSWER HERE)"
   ]
  },
  {
   "cell_type": "markdown",
   "metadata": {
    "colab_type": "text",
    "id": "HY_jT1uksAYu"
   },
   "source": [
    "## Logistic\n",
    "\n",
    "We are going to predict wheter or not someone has breast cancer using Logistical Regression! We are going to use sklearn's breast cancer dataset! It is up to you to decide what features to get the best results!"
   ]
  },
  {
   "cell_type": "code",
   "execution_count": 1,
   "metadata": {
    "colab": {},
    "colab_type": "code",
    "id": "Pg6kfm6VAdhN"
   },
   "outputs": [],
   "source": [
    "from sklearn.datasets import load_breast_cancer #datasets\n",
    "from sklearn.model_selection import train_test_split\n",
    "from sklearn.linear_model import LogisticRegression\n",
    "\n",
    "data = load_breast_cancer()\n",
    "\n",
    "X_cols = []\n",
    "Y_cols = []\n",
    "\n",
    "## YOUR CODE HERE"
   ]
  },
  {
   "cell_type": "markdown",
   "metadata": {
    "colab_type": "text",
    "id": "kUZXPX46CUS9"
   },
   "source": [
    "Test your logistical regression! You must get an accuracy of > 80%"
   ]
  },
  {
   "cell_type": "code",
   "execution_count": null,
   "metadata": {
    "colab": {},
    "colab_type": "code",
    "id": "AnPoDu-CCTsE"
   },
   "outputs": [],
   "source": [
    "from sklearn.metrics import accuracy_score\n",
    "\n",
    "## YOUR CODE HERE\n",
    "\n",
    "print(\"Validation Accuracy is \", accuracy_score(y_val,y_val_pred)*100)"
   ]
  }
 ],
 "metadata": {
  "colab": {
   "name": "Regression_Exercise-1.ipynb",
   "provenance": []
  },
  "kernelspec": {
   "display_name": "Python 3",
   "language": "python",
   "name": "python3"
  },
  "language_info": {
   "codemirror_mode": {
    "name": "ipython",
    "version": 3
   },
   "file_extension": ".py",
   "mimetype": "text/x-python",
   "name": "python",
   "nbconvert_exporter": "python",
   "pygments_lexer": "ipython3",
   "version": "3.7.3"
  }
 },
 "nbformat": 4,
 "nbformat_minor": 1
}
