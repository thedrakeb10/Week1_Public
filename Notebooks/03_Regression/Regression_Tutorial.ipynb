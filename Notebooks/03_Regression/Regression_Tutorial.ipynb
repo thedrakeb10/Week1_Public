{
  "nbformat": 4,
  "nbformat_minor": 0,
  "metadata": {
    "colab": {
      "name": "Regression_Tutorial-1.ipynb",
      "provenance": []
    },
    "kernelspec": {
      "display_name": "Python 3",
      "language": "python",
      "name": "python3"
    },
    "language_info": {
      "codemirror_mode": {
        "name": "ipython",
        "version": 3
      },
      "file_extension": ".py",
      "mimetype": "text/x-python",
      "name": "python",
      "nbconvert_exporter": "python",
      "pygments_lexer": "ipython3",
      "version": "3.7.3"
    }
  },
  "cells": [
    {
      "cell_type": "markdown",
      "metadata": {
        "colab_type": "text",
        "id": "0KE43I0pt8wl"
      },
      "source": [
        "# Linear Regression\n",
        "\n",
        "Regression analysis encompasses a number of ways to estimate a **dependent** (or *outcome*) variable from one or more **independent** (or *predictor*) variables. Simply put, by building a regression model, we are trying to describe the relationship between variables.\n",
        "\n",
        "**Linear regression** is a fairly simple model in which we assume the relationship between variables has a **fixed slope**, and is therefore \"linear.\" Linear regression can have multiple independent variables, but for now we'll start with using just one."
      ]
    },
    {
      "cell_type": "markdown",
      "metadata": {
        "colab_type": "text",
        "id": "iI1RSCD9t8wn"
      },
      "source": [
        "For our example, we'll use linear regression to predict housing prices in Portland, Oregon. Imagine you are trying to sell a house and you want to find a good price to list it at. One obvious thing to do is to find prices that houses have sold for in the past. House prices differ greatly, so we need to find characteristics of houses that impact sale price. A simple, numerical quality that should increase the value of a house is floor area.\n",
        "\n",
        "Our data set includes both square feet and house value. To see the relationship between these two variables, we can plot them using matplotlib. Note that the area is in column 0, and the price is in column 2."
      ]
    },
    {
      "cell_type": "markdown",
      "metadata": {
        "colab_type": "text",
        "id": "N-jcbfqyt8wp"
      },
      "source": [
        "## Example problem"
      ]
    },
    {
      "cell_type": "markdown",
      "metadata": {
        "colab_type": "text",
        "id": "qquhRJXit8wr"
      },
      "source": [
        "### Load and visualize data"
      ]
    },
    {
      "cell_type": "code",
      "metadata": {
        "colab_type": "code",
        "id": "aM0-NVowt8wt",
        "colab": {
          "base_uri": "https://localhost:8080/",
          "height": 279
        },
        "outputId": "a4e09a9b-457f-4669-ad8e-4b4a15a88687"
      },
      "source": [
        "import numpy as np\n",
        "from matplotlib import pyplot as plt\n",
        "\n",
        "# Read data from Github\n",
        "data_url = \"https://raw.githubusercontent.com/BeaverWorksMedlytics2020/Data_Public/master/NotebookExampleData/Week1/ex1data2.txt\"\n",
        "data_array = np.genfromtxt(data_url, delimiter=',')\n",
        "\n",
        "# The columns in this data set are define as folows:\n",
        "\"\"\"\n",
        "    0 = floor area\n",
        "    1 = number of bedrooms\n",
        "    2 = sale price\n",
        "\"\"\"\n",
        "    \n",
        "# store the relevant columns in more descriptive variables\n",
        "x_sqft = data_array[:,0]\n",
        "y_value = data_array[:,2]\n",
        "plt.plot(x_sqft, y_value, 'ro'); plt.xlabel(\"House Square Footage\"); plt.ylabel(\"Market value (USD)\");"
      ],
      "execution_count": 1,
      "outputs": [
        {
          "output_type": "display_data",
          "data": {
            "image/png": "[encoded data removed]",
            "text/plain": [
              "<Figure size 432x288 with 1 Axes>"
            ]
          },
          "metadata": {
            "tags": [],
            "needs_background": "light"
          }
        }
      ]
    },
    {
      "cell_type": "markdown",
      "metadata": {
        "colab_type": "text",
        "id": "njJpc4lht8w3"
      },
      "source": [
        "There definitely seems to be a trend: houses with greater area tend to have higher market value. That said, it's not a perfect predictor.\n",
        "\n",
        "If we draw a line through the data following this trend, we could use it to predict the value of other houses. This is called a **trend line**. For example, even if we don't have a house in the dataset with 2800 sqft, we could use our line to estimate the house's value. It can be easy to draw a convincing trend line by hand, as shown in the image below.\n",
        "\n",
        "![](https://raw.githubusercontent.com/BeaverWorksMedlytics2020/Data_public/master/Images/Week1/regression1.JPG)"
      ]
    },
    {
      "cell_type": "markdown",
      "metadata": {
        "colab_type": "text",
        "id": "j6iG58D4t8w4"
      },
      "source": [
        "This looks like a good estimate for our data. However, we might want to be certain that this trend line is the best possible fit. Ideally, it should be as close as possible to as many data points as possible. Each point has an error associated with it: the vertical distance between the trend line's prediction and the actual data. With linear regression, we seek to minimize the total amount of error.\n",
        "\n",
        "![image.png](https://raw.githubusercontent.com/BeaverWorksMedlytics2020/Data_public/master/Images/Week1/regression2.JPG)"
      ]
    },
    {
      "cell_type": "markdown",
      "metadata": {
        "colab_type": "text",
        "id": "RaEzMH6lt8w6"
      },
      "source": [
        "In our case, $x$ is square footage and $y$ is market value. Then we can define the error for any datapoint as:\n",
        "$$ y_{actual} - y_{predicted} $$\n",
        "\n",
        "\n",
        "In order to count negative and positive errors without them cancelling each other out, we take the squared error, or \n",
        "$$ (y_{actual} - y_{predicted})^2 $$\n",
        "\n",
        "\n",
        "Then for the list of market values $y_1,y_2,...,y_n$ and square footages $x_1,x_2,...,x_n$ the **total error** (or *cost*) of our line is just the sum of each error term.\n",
        " $$ \\text{Total error = } \\sum^n_{i=1} (y_i - y_{predicted})^2 $$\n",
        "$$ = \\sum^n_{i=1} (y_i - (mx_i+b))^2$$"
      ]
    },
    {
      "cell_type": "markdown",
      "metadata": {
        "colab_type": "text",
        "id": "I68V5F6nt8w7"
      },
      "source": [
        "In linear regression, there can only one $m$ and $b$ that minimize the total error. If we plot the total error against either $m$ or $b$ as a variable, it turns out we get a U-shaped plot. This curve has changes from increasing to decreasing at a single point. At this point, the curve flattens out, and the derivative is equal to 0.\n",
        "\n",
        "![image.png](https://raw.githubusercontent.com/BeaverWorksMedlytics2020/Data_public/master/Images/Week1/regression3.JPG)\n",
        "\n",
        "This means we can find our best fit by taking the derivative of the equation for total error. We won't go through the full derivation here, but feel free to give it a try if you're feeling adventurous. Setting the derivative equal to 0 and solving for $b$ and $m$ produces formula for the best fit trend. Here are the results:\n",
        "$$ m = \\frac{\\sum^n_{i=1} (x_i-x_{mean})(y_i-y_{mean})}{\\sum^n_{i=1} (x_i-x_{mean})^2} $$\n",
        "$$ b = y_{mean}-m*x_{mean} $$\n",
        "\n",
        "<br></br>\n",
        "To apply this to our example, we can express these formula as a code function and apply it to the entire range of data. In the exercise notebook, you'll be doing the calculations and plotting yourself. For now, let's take a look at sklearn's LinearRegression."
      ]
    },
    {
      "cell_type": "markdown",
      "metadata": {
        "colab_type": "text",
        "id": "K_lIC-BGt8w9"
      },
      "source": [
        "### Creating model using sklearn"
      ]
    },
    {
      "cell_type": "code",
      "metadata": {
        "colab_type": "code",
        "id": "ybxsvhPCt8w-",
        "colab": {}
      },
      "source": [
        "import sklearn.linear_model as lm\n",
        "\n",
        "# Create a linear regression model\n",
        "model = lm.LinearRegression()\n",
        "\n",
        "# Reshape the data to the required format for lm's fit function\n",
        "# We have to reshape the data into a column list like [[3],[3],[3]...] instead of [3, 3, 3,...]\n",
        "x_sqft_shaped = x_sqft.reshape(-1,1)\n",
        "\n",
        "# Fit onto the results\n",
        "housepredictor = model.fit(x_sqft_shaped,y_value)"
      ],
      "execution_count": 2,
      "outputs": []
    },
    {
      "cell_type": "markdown",
      "metadata": {
        "colab_type": "text",
        "id": "u_qva6QIt8xD"
      },
      "source": [
        "Let's print the values for m and b. When you move one to the exercise notebook, your m and b values should match the ones generated with sklearn's."
      ]
    },
    {
      "cell_type": "code",
      "metadata": {
        "colab_type": "code",
        "id": "JoxSwq4Pt8xE",
        "colab": {
          "base_uri": "https://localhost:8080/",
          "height": 35
        },
        "outputId": "b0487713-0c74-494f-befe-9e8b4944e179"
      },
      "source": [
        "print(housepredictor.coef_,housepredictor.intercept_)"
      ],
      "execution_count": 3,
      "outputs": [
        {
          "output_type": "stream",
          "text": [
            "[134.52528772] 71270.49244872917\n"
          ],
          "name": "stdout"
        }
      ]
    },
    {
      "cell_type": "markdown",
      "metadata": {
        "colab_type": "text",
        "id": "2BwS74dft8xI"
      },
      "source": [
        "We can also print the R^2 value of our model."
      ]
    },
    {
      "cell_type": "code",
      "metadata": {
        "colab_type": "code",
        "id": "5GWTa4Wut8xJ",
        "colab": {
          "base_uri": "https://localhost:8080/",
          "height": 35
        },
        "outputId": "ce91e693-c4d8-410a-96fe-ec01b6ea9e95"
      },
      "source": [
        "housepredictor.score(x_sqft_shaped,y_value)"
      ],
      "execution_count": 4,
      "outputs": [
        {
          "output_type": "execute_result",
          "data": {
            "text/plain": [
              "0.7310037839755306"
            ]
          },
          "metadata": {
            "tags": []
          },
          "execution_count": 4
        }
      ]
    },
    {
      "cell_type": "markdown",
      "metadata": {
        "colab_type": "text",
        "id": "l7r1qUVzt8xL"
      },
      "source": [
        "Next we will consider the case of 2 variables: floor area again and this time number of bedrooms as well. Recall 0 = floor area, 1 = number of bedrooms, and 2 = sale price.\n",
        "\n",
        "The equation for a trend is similar to before. There is still only one $b$, but now we have a unique $m$ for each $x$ variable:\n",
        "$$ y = m_1x_1+m_2x_2+b $$\n",
        "\n",
        "The error will look a little different, since now we are working in multiple dimensions.\n",
        "\n",
        "Using a library means we don't have to find the total error for each possible plane ourselves. Our data already includes the number of bedrooms in column 1, so all we need to do is reshape the data and hand it to the fit function."
      ]
    },
    {
      "cell_type": "code",
      "metadata": {
        "colab_type": "code",
        "id": "aBccFpTTt8xM",
        "colab": {}
      },
      "source": [
        "# get the number of bedrooms\n",
        "x_rooms = data_array[:,1]\n",
        "\n",
        "# reshape the data to the required format for lm's fit function\n",
        "x_rooms_shaped = x_rooms.reshape(-1,1)\n",
        "\n",
        "# concatenate the data into a single array\n",
        "x_combined = np.concatenate((x_sqft_shaped,x_rooms_shaped),axis=1)\n",
        "\n",
        "# create a new linear regression model\n",
        "model_2d = lm.LinearRegression()\n",
        "\n",
        "# run fit for two independent variables\n",
        "housepredictor_2d = model_2d.fit(x_combined,y_value)"
      ],
      "execution_count": 5,
      "outputs": []
    },
    {
      "cell_type": "markdown",
      "metadata": {
        "colab_type": "text",
        "id": "8qT-qJN-t8xP"
      },
      "source": [
        "Generally speaking, more dimensions should give us a better predictive value. How can we tell if this new predictor is better? One metric we can look at is $R^2$. Called the \"coefficient of determination,\" $R^2$ describes a bit more than just correlation. Instead, it shows how much variance in dependent data is predictable from variance in independent data. More simply, its a metric for \"goodness of fit.\"\n",
        "\n",
        "Let's compare the $R^2$ values for both trend models."
      ]
    },
    {
      "cell_type": "code",
      "metadata": {
        "colab_type": "code",
        "id": "Uahmm6Qet8xQ",
        "colab": {
          "base_uri": "https://localhost:8080/",
          "height": 52
        },
        "outputId": "3ca14185-fa8e-4f2f-ff03-cf9c3d249a30"
      },
      "source": [
        "print(housepredictor.score(x_sqft_shaped,y_value))\n",
        "print(housepredictor_2d.score(x_combined,y_value))"
      ],
      "execution_count": 6,
      "outputs": [
        {
          "output_type": "stream",
          "text": [
            "0.7310037839755306\n",
            "0.7329450180289143\n"
          ],
          "name": "stdout"
        }
      ]
    },
    {
      "cell_type": "markdown",
      "metadata": {
        "colab_type": "text",
        "id": "6Ap6HsO8t8xT"
      },
      "source": [
        "Interestingly, even though we added an entire new variable, the $R^2$ value barely increased using the 2D model. We can speculate as to why. Intuitively, houses with more bedrooms also have greater floor space. The two are likely correlated. This means adding it to the model didn't add much new information.\n",
        "\n",
        "Another way of thinking about it is this: consider a point with a large error on the sqft-value trend. Perhaps the house has a large area, but is valued lower than expected. We may expect that large house to also have a large number of bedrooms. However, if number of bedrooms raises the price, this house will also look undervalued from that metric as well. Therefore adding a second dimension hasn't changed the fact that this point is an outlier in our model."
      ]
    },
    {
      "cell_type": "markdown",
      "metadata": {
        "colab_type": "text",
        "id": "n091LnCUt8xU"
      },
      "source": [
        "# Logistic Regression\n",
        "\n",
        "![](https://raw.githubusercontent.com/BeaverWorksMedlytics2020/Data_public/master/Images/Week1/regression4.jpeg)\n",
        "\n",
        "Logistic regression analysis is used for predicting the outcome of a categorical variable. Typically these problems arise in terms of classifaction. The probabilities describing the possible outcomes of a single trial are modeled, as a function of the predictor variables, using a logistic function. Rather than modeling the probabilities directly, we model a function of the probabilities that is not restricted between 0 and 1. In particular, we model the log of the odds, rather than the actual probabilities. Remember the odds are defined to be the probability that the event occurs, divided by the probability that it does not occur. "
      ]
    },
    {
      "cell_type": "markdown",
      "metadata": {
        "colab_type": "text",
        "id": "GGql7szrt8xU"
      },
      "source": [
        "As seen in the images above, the logisitic function seems to have an 'S' like shape instead of a straight line. To understand why this is, we need to delve in to some mathematics. \n",
        "\n",
        "We consider a special function called the sigmoid function:\n",
        "\n",
        "$$\\sigma(a) = \\frac{exp (a)}{1+exp (a)}$$\n",
        "\n",
        "This function produces an 'S' shape as shown above and its range lies between 0 and 1. A perfect fit for our model. We have an predictor $X$ which we would also like to relate to our model. So we do the following Let $a = \\beta_0 + \\beta_1X$. Then it follows\n",
        "\n",
        "$$\\frac{exp (\\beta_0 + \\beta_1X)}{1+exp (\\beta_0 + \\beta_1X)}.$$\n",
        "  \n",
        "\n",
        "The logistic regression model expresses the population proportion p of individuals with a given attribute as a function of a single predictor variable X. The model assumes that $p = p(X)$ is related through the following:\n",
        "\n",
        "$$p = \\frac{exp (\\beta_0+\\beta_1X)}{1+exp (\\beta_0 + \\beta_1X)}$$\n",
        "\n",
        "equivalentally\n",
        "\n",
        "$$ln(\\frac{p}{1-p})= \\beta_0 +\\beta_1X $$\n",
        "\n",
        "<br></br>\n",
        "  The expression $\\frac{p}{1-p}$ is known as the odds.\n",
        "\n",
        " The logistic model assumes that the log-odds of success is linearly related. Mathematically, this makes sense if we assume $ln(\\frac{p}{1-p})$ = $y$ then we have$ y =  \\beta_0 +\\beta_1X$ a straight line!\n",
        "to $X$. \n",
        "\n",
        "Graphs of the logistic model relating $p$ to $X$ are given below. \n",
        "\n",
        "![](https://raw.githubusercontent.com/BeaverWorksMedlytics2020/Data_public/master/Images/Week1/regression5.jpg)\n",
        "\n",
        "\n",
        "Similarly to linear line of best fit, we would like to find our logisitical best fit. For this, we use the **Maximum Likelihood Estimation**. The mathematics gets a bit rigorious for this, however, similar to setting the derivative zero for our best fit trends. If you're curious here's a link that is very interesting that delves into the topic!\n",
        "\n",
        "http://statweb.stanford.edu/~susan/courses/s200/lectures/lect11.pdf\n",
        "\n"
      ]
    },
    {
      "cell_type": "markdown",
      "metadata": {
        "colab_type": "text",
        "id": "wHztaRNPt8xV"
      },
      "source": [
        "## Example problem"
      ]
    },
    {
      "cell_type": "markdown",
      "metadata": {
        "colab_type": "text",
        "id": "Ms3ZOQ6Vt8xV"
      },
      "source": [
        "In this dataset, survival times are given for 30 patients who died from **Acute Myelogenous Leukaemia**. Also measured was the patient's **white blood cell count (WBC)** at the time of diagnosis. The patients were also factored into 2 groups according to the presence or absence of a morphologic characteristic of white blood cells. Patients termed **AG positive** were identified by the presence of Auer rods and/or significant granulation of the leukaemic cells in the bone marrow at the time of diagnosis.\n",
        "\n",
        "We are interested in modelling the **probability p of surviving at least one year as a function of WBC and AG**."
      ]
    },
    {
      "cell_type": "markdown",
      "metadata": {
        "colab_type": "text",
        "id": "Av4tGemJt8xV"
      },
      "source": [
        "### Load data"
      ]
    },
    {
      "cell_type": "code",
      "metadata": {
        "colab_type": "code",
        "id": "Sw-3pZWQt8xW",
        "colab": {
          "base_uri": "https://localhost:8080/",
          "height": 1000
        },
        "outputId": "4ba360fc-4573-4534-ea72-ee22a2f25031"
      },
      "source": [
        "import pandas as pd\n",
        "import numpy as np\n",
        "import matplotlib as plt\n",
        "import math\n",
        "import seaborn as sns\n",
        "\n",
        "# url = \"https://raw.githubusercontent.com/BeaverWorksMedlytics2020/Week1_Public/master/04_Regression/leukdata.csv\"\n",
        "url = \"https://raw.githubusercontent.com/bwsimedlytics/Week1Public/master/leukdata.csv\"\n",
        "data = pd.read_csv(url)\n",
        "\n",
        "\"\"\"\n",
        "    nres: number surviving at least one year  \n",
        "    ag: 1 for AG positive, 0 for AG negative  \n",
        "    wbc: white cell blood count   \n",
        "\"\"\"\n",
        "\n",
        "data.head(30)"
      ],
      "execution_count": 7,
      "outputs": [
        {
          "output_type": "stream",
          "text": [
            "/usr/local/lib/python3.6/dist-packages/statsmodels/tools/_testing.py:19: FutureWarning: pandas.util.testing is deprecated. Use the functions in the public API at pandas.testing instead.\n",
            "  import pandas.util.testing as tm\n"
          ],
          "name": "stderr"
        },
        {
          "output_type": "execute_result",
          "data": {
            "text/html": [
              "<div>\n",
              "<style scoped>\n",
              "    .dataframe tbody tr th:only-of-type {\n",
              "        vertical-align: middle;\n",
              "    }\n",
              "\n",
              "    .dataframe tbody tr th {\n",
              "        vertical-align: top;\n",
              "    }\n",
              "\n",
              "    .dataframe thead th {\n",
              "        text-align: right;\n",
              "    }\n",
              "</style>\n",
              "<table border=\"1\" class=\"dataframe\">\n",
              "  <thead>\n",
              "    <tr style=\"text-align: right;\">\n",
              "      <th></th>\n",
              "      <th>nres</th>\n",
              "      <th>ag</th>\n",
              "      <th>wbc</th>\n",
              "    </tr>\n",
              "  </thead>\n",
              "  <tbody>\n",
              "    <tr>\n",
              "      <th>0</th>\n",
              "      <td>1</td>\n",
              "      <td>1</td>\n",
              "      <td>75</td>\n",
              "    </tr>\n",
              "    <tr>\n",
              "      <th>1</th>\n",
              "      <td>1</td>\n",
              "      <td>1</td>\n",
              "      <td>230</td>\n",
              "    </tr>\n",
              "    <tr>\n",
              "      <th>2</th>\n",
              "      <td>1</td>\n",
              "      <td>1</td>\n",
              "      <td>260</td>\n",
              "    </tr>\n",
              "    <tr>\n",
              "      <th>3</th>\n",
              "      <td>1</td>\n",
              "      <td>1</td>\n",
              "      <td>430</td>\n",
              "    </tr>\n",
              "    <tr>\n",
              "      <th>4</th>\n",
              "      <td>1</td>\n",
              "      <td>1</td>\n",
              "      <td>700</td>\n",
              "    </tr>\n",
              "    <tr>\n",
              "      <th>5</th>\n",
              "      <td>1</td>\n",
              "      <td>1</td>\n",
              "      <td>940</td>\n",
              "    </tr>\n",
              "    <tr>\n",
              "      <th>6</th>\n",
              "      <td>1</td>\n",
              "      <td>1</td>\n",
              "      <td>1000</td>\n",
              "    </tr>\n",
              "    <tr>\n",
              "      <th>7</th>\n",
              "      <td>1</td>\n",
              "      <td>1</td>\n",
              "      <td>1050</td>\n",
              "    </tr>\n",
              "    <tr>\n",
              "      <th>8</th>\n",
              "      <td>1</td>\n",
              "      <td>1</td>\n",
              "      <td>10000</td>\n",
              "    </tr>\n",
              "    <tr>\n",
              "      <th>9</th>\n",
              "      <td>1</td>\n",
              "      <td>0</td>\n",
              "      <td>300</td>\n",
              "    </tr>\n",
              "    <tr>\n",
              "      <th>10</th>\n",
              "      <td>1</td>\n",
              "      <td>0</td>\n",
              "      <td>440</td>\n",
              "    </tr>\n",
              "    <tr>\n",
              "      <th>11</th>\n",
              "      <td>0</td>\n",
              "      <td>1</td>\n",
              "      <td>540</td>\n",
              "    </tr>\n",
              "    <tr>\n",
              "      <th>12</th>\n",
              "      <td>0</td>\n",
              "      <td>1</td>\n",
              "      <td>600</td>\n",
              "    </tr>\n",
              "    <tr>\n",
              "      <th>13</th>\n",
              "      <td>0</td>\n",
              "      <td>1</td>\n",
              "      <td>1700</td>\n",
              "    </tr>\n",
              "    <tr>\n",
              "      <th>14</th>\n",
              "      <td>0</td>\n",
              "      <td>1</td>\n",
              "      <td>3200</td>\n",
              "    </tr>\n",
              "    <tr>\n",
              "      <th>15</th>\n",
              "      <td>0</td>\n",
              "      <td>1</td>\n",
              "      <td>3500</td>\n",
              "    </tr>\n",
              "    <tr>\n",
              "      <th>16</th>\n",
              "      <td>0</td>\n",
              "      <td>1</td>\n",
              "      <td>5200</td>\n",
              "    </tr>\n",
              "    <tr>\n",
              "      <th>17</th>\n",
              "      <td>0</td>\n",
              "      <td>0</td>\n",
              "      <td>150</td>\n",
              "    </tr>\n",
              "    <tr>\n",
              "      <th>18</th>\n",
              "      <td>0</td>\n",
              "      <td>0</td>\n",
              "      <td>400</td>\n",
              "    </tr>\n",
              "    <tr>\n",
              "      <th>19</th>\n",
              "      <td>0</td>\n",
              "      <td>0</td>\n",
              "      <td>530</td>\n",
              "    </tr>\n",
              "    <tr>\n",
              "      <th>20</th>\n",
              "      <td>0</td>\n",
              "      <td>0</td>\n",
              "      <td>900</td>\n",
              "    </tr>\n",
              "    <tr>\n",
              "      <th>21</th>\n",
              "      <td>0</td>\n",
              "      <td>0</td>\n",
              "      <td>1000</td>\n",
              "    </tr>\n",
              "    <tr>\n",
              "      <th>22</th>\n",
              "      <td>0</td>\n",
              "      <td>0</td>\n",
              "      <td>1900</td>\n",
              "    </tr>\n",
              "    <tr>\n",
              "      <th>23</th>\n",
              "      <td>0</td>\n",
              "      <td>0</td>\n",
              "      <td>2100</td>\n",
              "    </tr>\n",
              "    <tr>\n",
              "      <th>24</th>\n",
              "      <td>0</td>\n",
              "      <td>0</td>\n",
              "      <td>2600</td>\n",
              "    </tr>\n",
              "    <tr>\n",
              "      <th>25</th>\n",
              "      <td>0</td>\n",
              "      <td>0</td>\n",
              "      <td>2700</td>\n",
              "    </tr>\n",
              "    <tr>\n",
              "      <th>26</th>\n",
              "      <td>0</td>\n",
              "      <td>0</td>\n",
              "      <td>2800</td>\n",
              "    </tr>\n",
              "    <tr>\n",
              "      <th>27</th>\n",
              "      <td>0</td>\n",
              "      <td>0</td>\n",
              "      <td>3100</td>\n",
              "    </tr>\n",
              "    <tr>\n",
              "      <th>28</th>\n",
              "      <td>0</td>\n",
              "      <td>0</td>\n",
              "      <td>7900</td>\n",
              "    </tr>\n",
              "    <tr>\n",
              "      <th>29</th>\n",
              "      <td>0</td>\n",
              "      <td>0</td>\n",
              "      <td>10000</td>\n",
              "    </tr>\n",
              "  </tbody>\n",
              "</table>\n",
              "</div>"
            ],
            "text/plain": [
              "    nres  ag    wbc\n",
              "0      1   1     75\n",
              "1      1   1    230\n",
              "2      1   1    260\n",
              "3      1   1    430\n",
              "4      1   1    700\n",
              "5      1   1    940\n",
              "6      1   1   1000\n",
              "7      1   1   1050\n",
              "8      1   1  10000\n",
              "9      1   0    300\n",
              "10     1   0    440\n",
              "11     0   1    540\n",
              "12     0   1    600\n",
              "13     0   1   1700\n",
              "14     0   1   3200\n",
              "15     0   1   3500\n",
              "16     0   1   5200\n",
              "17     0   0    150\n",
              "18     0   0    400\n",
              "19     0   0    530\n",
              "20     0   0    900\n",
              "21     0   0   1000\n",
              "22     0   0   1900\n",
              "23     0   0   2100\n",
              "24     0   0   2600\n",
              "25     0   0   2700\n",
              "26     0   0   2800\n",
              "27     0   0   3100\n",
              "28     0   0   7900\n",
              "29     0   0  10000"
            ]
          },
          "metadata": {
            "tags": []
          },
          "execution_count": 7
        }
      ]
    },
    {
      "cell_type": "markdown",
      "metadata": {
        "colab_type": "text",
        "id": "2bAbouKKt8xZ"
      },
      "source": [
        "### Visualize data"
      ]
    },
    {
      "cell_type": "code",
      "metadata": {
        "colab_type": "code",
        "id": "Hz7QCiqMt8xa",
        "colab": {
          "base_uri": "https://localhost:8080/",
          "height": 297
        },
        "outputId": "76d00aba-bd11-4d8d-897d-657275a4d046"
      },
      "source": [
        "sns.distplot(data.wbc)"
      ],
      "execution_count": 9,
      "outputs": [
        {
          "output_type": "execute_result",
          "data": {
            "text/plain": [
              "<matplotlib.axes._subplots.AxesSubplot at 0x7f30598fbd68>"
            ]
          },
          "metadata": {
            "tags": []
          },
          "execution_count": 9
        },
        {
          "output_type": "display_data",
          "data": {
            "image/png": "[encoded data removed]",
            "text/plain": [
              "<Figure size 432x288 with 1 Axes>"
            ]
          },
          "metadata": {
            "tags": [],
            "needs_background": "light"
          }
        }
      ]
    },
    {
      "cell_type": "code",
      "metadata": {
        "colab_type": "code",
        "id": "a8qz3UNPt8xc",
        "colab": {
          "base_uri": "https://localhost:8080/",
          "height": 297
        },
        "outputId": "34ad461d-585d-4077-8128-54d1e0213598"
      },
      "source": [
        "sns.distplot(data.ag)"
      ],
      "execution_count": 10,
      "outputs": [
        {
          "output_type": "execute_result",
          "data": {
            "text/plain": [
              "<matplotlib.axes._subplots.AxesSubplot at 0x7f30597fa7b8>"
            ]
          },
          "metadata": {
            "tags": []
          },
          "execution_count": 10
        },
        {
          "output_type": "display_data",
          "data": {
            "image/png": "[encoded data removed]",
            "text/plain": [
              "<Figure size 432x288 with 1 Axes>"
            ]
          },
          "metadata": {
            "tags": [],
            "needs_background": "light"
          }
        }
      ]
    },
    {
      "cell_type": "code",
      "metadata": {
        "colab_type": "code",
        "id": "sk2hqzdht8xe",
        "colab": {
          "base_uri": "https://localhost:8080/",
          "height": 297
        },
        "outputId": "0abaa517-d47c-4566-ea8c-541a383f4f83"
      },
      "source": [
        "sns.distplot(data.nres)"
      ],
      "execution_count": 11,
      "outputs": [
        {
          "output_type": "execute_result",
          "data": {
            "text/plain": [
              "<matplotlib.axes._subplots.AxesSubplot at 0x7f30597da908>"
            ]
          },
          "metadata": {
            "tags": []
          },
          "execution_count": 11
        },
        {
          "output_type": "display_data",
          "data": {
            "image/png": "[encoded data removed]",
            "text/plain": [
              "<Figure size 432x288 with 1 Axes>"
            ]
          },
          "metadata": {
            "tags": [],
            "needs_background": "light"
          }
        }
      ]
    },
    {
      "cell_type": "code",
      "metadata": {
        "colab_type": "code",
        "id": "hIyHtTb8t8xh",
        "colab": {
          "base_uri": "https://localhost:8080/",
          "height": 297
        },
        "outputId": "50aa849c-2b52-47ff-dd8f-5b9ffdcadad6"
      },
      "source": [
        "# relationship between wbc and nres\n",
        "sns.regplot(data.wbc, data.nres)"
      ],
      "execution_count": 12,
      "outputs": [
        {
          "output_type": "execute_result",
          "data": {
            "text/plain": [
              "<matplotlib.axes._subplots.AxesSubplot at 0x7f305972f780>"
            ]
          },
          "metadata": {
            "tags": []
          },
          "execution_count": 12
        },
        {
          "output_type": "display_data",
          "data": {
            "image/png": "[encoded data removed]",
            "text/plain": [
              "<Figure size 432x288 with 1 Axes>"
            ]
          },
          "metadata": {
            "tags": [],
            "needs_background": "light"
          }
        }
      ]
    },
    {
      "cell_type": "code",
      "metadata": {
        "colab_type": "code",
        "id": "CbAmsAz8t8xk",
        "colab": {
          "base_uri": "https://localhost:8080/",
          "height": 297
        },
        "outputId": "b87c458d-81d5-4431-cc81-c07b93714f56"
      },
      "source": [
        "sns.countplot(data.nres, hue=data.ag) "
      ],
      "execution_count": 13,
      "outputs": [
        {
          "output_type": "execute_result",
          "data": {
            "text/plain": [
              "<matplotlib.axes._subplots.AxesSubplot at 0x7f3059729e80>"
            ]
          },
          "metadata": {
            "tags": []
          },
          "execution_count": 13
        },
        {
          "output_type": "display_data",
          "data": {
            "image/png": "[encoded data removed]",
            "text/plain": [
              "<Figure size 432x288 with 1 Axes>"
            ]
          },
          "metadata": {
            "tags": [],
            "needs_background": "light"
          }
        }
      ]
    },
    {
      "cell_type": "markdown",
      "metadata": {
        "colab_type": "text",
        "id": "YV-yqOgft8xl"
      },
      "source": [
        "As you can see, the scatterplot between wbc and nres best potrays the need for logisitic regression over linear regression.\n",
        "\n",
        "First, you should assess if variables need to be transformed or normalized. If so, change the variable(s).\n",
        "\n",
        "Notice from the univariate analysis above the skewness of the WBC distribution. Find a transformation of the WBC variable to achieve a normal distribution. Note that power transforms are a family of parametric, monotonic transformations that aim to transform data from any distribution to as close to a Gaussian/Normal distribution as possible in order to stabilize variance and minimize skewness.\n",
        "\n",
        "Here's some more in-depth documentation: https://scikit-learn.org/stable/modules/preprocessing.html"
      ]
    },
    {
      "cell_type": "code",
      "metadata": {
        "colab_type": "code",
        "id": "3I8Mvmqmt8xm",
        "colab": {
          "base_uri": "https://localhost:8080/",
          "height": 297
        },
        "outputId": "06dde8cb-fd0b-49ce-b8b4-de32915a710e"
      },
      "source": [
        "data['log_wbc']= np.log(data.wbc)\n",
        "sns.distplot(data.log_wbc)"
      ],
      "execution_count": 14,
      "outputs": [
        {
          "output_type": "execute_result",
          "data": {
            "text/plain": [
              "<matplotlib.axes._subplots.AxesSubplot at 0x7f3059691dd8>"
            ]
          },
          "metadata": {
            "tags": []
          },
          "execution_count": 14
        },
        {
          "output_type": "display_data",
          "data": {
            "image/png": "[encoded data removed]",
            "text/plain": [
              "<Figure size 432x288 with 1 Axes>"
            ]
          },
          "metadata": {
            "tags": [],
            "needs_background": "light"
          }
        }
      ]
    },
    {
      "cell_type": "markdown",
      "metadata": {
        "colab_type": "text",
        "id": "U6_HKVV3t8xp"
      },
      "source": [
        "Now that we have preprocessed the data, we can implement the model.\n",
        "\n",
        "The model we're considering for this analysis is\n",
        "\n",
        "$$log(\\frac{p}{1-p})= \\beta_0 +\\beta_1log(WBC) + \\beta_2AG$$\n",
        " \n",
        "\n",
        "The model is best understood by separating the AG+ and AG− cases. For AG− individuals, AG=0 so the model reduces to\n",
        "\n",
        "$$log(\\frac{p}{1-p})= \\beta_0 +\\beta_1log(WBC) + \\beta_2*0 =  \\beta_0 +\\beta_1log(WBC)$$.\n",
        "\n",
        "The model for AG+ individuals (AG = 1) is\n",
        "\n",
        "$$log(\\frac{p}{1-p})= \\beta_0 +\\beta_1log(WBC) + \\beta_2*1 =  (\\beta_0+\\beta_2) +\\beta_1log(WBC)$$."
      ]
    },
    {
      "cell_type": "markdown",
      "metadata": {
        "colab_type": "text",
        "id": "0wl6Os5bt8xp"
      },
      "source": [
        "The reduced or simple logisitic model is without AG and where the log odds of surviving at least one year is related to log(WBC) linearly. When $\\beta_2 = 0$ implies that AG level has no effect on the survival probability once log(WBC) has been accounted for. Including AG implies the log odds of surviving at least one year and log(WBC) are a linearly associated, with different slopes for the AG levels. $\\beta_0$ and $\\beta_0 + \\beta_2$ are the y-intercepts for the population logistic regression lines for AG− and AG+, respectively. Both prediction lines have a common slope, $\\beta_1$. The $\\beta_2$ estimate for the AG  is the difference between intercepts for the AG+ and AG− regression lines. The image below shows the assumed relationship for a given $\\beta_1$ < 0. The population regression lines are parallel on the logit scale only, and preserved on the probability scale."
      ]
    },
    {
      "cell_type": "markdown",
      "metadata": {
        "colab_type": "text",
        "id": "fnEU1Y5Ft8xq"
      },
      "source": [
        "![](https://raw.githubusercontent.com/BeaverWorksMedlytics2020/Data_public/master/Images/Week1/regression6.png)"
      ]
    },
    {
      "cell_type": "markdown",
      "metadata": {
        "colab_type": "text",
        "id": "UyMLBdIUt8xq"
      },
      "source": [
        "### Create model"
      ]
    },
    {
      "cell_type": "code",
      "metadata": {
        "colab_type": "code",
        "id": "bttTRdwWt8xr",
        "colab": {}
      },
      "source": [
        "# Splitting data\n",
        "from sklearn.model_selection import train_test_split\n",
        "X_cols = ['ag','log_wbc']\n",
        "y_col = 'nres'\n",
        "\n",
        "test_size = 0.15\n",
        "X_train, X_val, y_train, y_val = train_test_split(data[X_cols], data[y_col], test_size=test_size, random_state=0)"
      ],
      "execution_count": 53,
      "outputs": []
    },
    {
      "cell_type": "code",
      "metadata": {
        "colab_type": "code",
        "id": "ttWJ0YuRt8xt",
        "colab": {
          "base_uri": "https://localhost:8080/",
          "height": 104
        },
        "outputId": "49918571-c95f-4ed6-cc7d-4f3af8bbbeaf"
      },
      "source": [
        "# Defining model\n",
        "from sklearn.linear_model import LogisticRegression\n",
        "logreg = LogisticRegression()\n",
        "logreg.fit(X_train, y_train)"
      ],
      "execution_count": 54,
      "outputs": [
        {
          "output_type": "execute_result",
          "data": {
            "text/plain": [
              "LogisticRegression(C=1.0, class_weight=None, dual=False, fit_intercept=True,\n",
              "                   intercept_scaling=1, l1_ratio=None, max_iter=100,\n",
              "                   multi_class='auto', n_jobs=None, penalty='l2',\n",
              "                   random_state=None, solver='lbfgs', tol=0.0001, verbose=0,\n",
              "                   warm_start=False)"
            ]
          },
          "metadata": {
            "tags": []
          },
          "execution_count": 54
        }
      ]
    },
    {
      "cell_type": "code",
      "metadata": {
        "colab_type": "code",
        "id": "j10ngdEjt8xw",
        "colab": {
          "base_uri": "https://localhost:8080/",
          "height": 52
        },
        "outputId": "7d834bc7-a165-4093-a095-4235e4416ee4"
      },
      "source": [
        "from sklearn.metrics import accuracy_score\n",
        "#printing accuracy of testing & training data\n",
        "y_train_pred=logreg.predict(X_train)\n",
        "print(\"Training Accuracy is \", accuracy_score(y_train, y_train_pred)*100)\n",
        "y_val_pred=logreg.predict(X_val)\n",
        "print(\"Validation Accuracy is \", accuracy_score(y_val,y_val_pred)*100)"
      ],
      "execution_count": 55,
      "outputs": [
        {
          "output_type": "stream",
          "text": [
            "Training Accuracy is  80.0\n",
            "Validation Accuracy is  80.0\n"
          ],
          "name": "stdout"
        }
      ]
    },
    {
      "cell_type": "code",
      "metadata": {
        "id": "2RTIt1-evP5z",
        "colab_type": "code",
        "colab": {}
      },
      "source": [
        ""
      ],
      "execution_count": null,
      "outputs": []
    }
  ]
}