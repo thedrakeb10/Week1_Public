{
  "nbformat": 4,
  "nbformat_minor": 0,
  "metadata": {
    "kernelspec": {
      "display_name": "Python 3",
      "language": "python",
      "name": "python3"
    },
    "language_info": {
      "codemirror_mode": {
        "name": "ipython",
        "version": 3
      },
      "file_extension": ".py",
      "mimetype": "text/x-python",
      "name": "python",
      "nbconvert_exporter": "python",
      "pygments_lexer": "ipython3",
      "version": "3.7.3"
    },
    "colab": {
      "name": "Regression_Solutions.ipynb",
      "provenance": []
    }
  },
  "cells": [
    {
      "cell_type": "markdown",
      "metadata": {
        "id": "Ke4SDvDttZZm",
        "colab_type": "text"
      },
      "source": [
        "# Regression Exercises"
      ]
    },
    {
      "cell_type": "code",
      "metadata": {
        "id": "MoEc1D6xtZZo",
        "colab_type": "code",
        "colab": {}
      },
      "source": [
        "# Loading data\n",
        "import numpy as np\n",
        "from matplotlib import pyplot as plt\n",
        "\n",
        "# Read data from Github\n",
        "data_url = \"https://raw.githubusercontent.com/BeaverWorksMedlytics2020/Data_Public/master/NotebookExampleData/Week1/ex1data2.txt\"\n",
        "data_array = np.genfromtxt(data_url, delimiter=',')\n",
        "\n",
        "# The columns in this data set are define as folows:\n",
        "\"\"\"\n",
        "    0 = floor area\n",
        "    1 = number of bedrooms\n",
        "    2 = sale price\n",
        "\"\"\"\n",
        "    \n",
        "# store the relevant columns in more descriptive variables\n",
        "x_sqft = data_array[:,0]\n",
        "y_value = data_array[:,2]"
      ],
      "execution_count": 1,
      "outputs": []
    },
    {
      "cell_type": "markdown",
      "metadata": {
        "id": "9KhP7ddgtZZs",
        "colab_type": "text"
      },
      "source": [
        "Here we'll build off of the tutorial exercise, first finding the best linear fit for floor area (sqft) vs valued price (USD). Recall that setting the derivative = 0 and solving for 𝑏 & 𝑚 produces formula for the best fit trend:\n",
        "$$ m = \\frac{\\sum^n_{i=1} (x_i-x_{mean})(y_i-y_{mean})}{\\sum^n_{i=1} (x_i-x_{mean})^2} $$\n",
        "$$ b = y_{mean}-m*x_{mean} $$"
      ]
    },
    {
      "cell_type": "code",
      "metadata": {
        "id": "39VYcKbTtZZs",
        "colab_type": "code",
        "colab": {}
      },
      "source": [
        "def find_best_fit(xx,yy):\n",
        "    '''\n",
        "      This function finds the best linear fit for yy vs xx\n",
        "    '''\n",
        "  \n",
        "    # find the mean of each array\n",
        "    x_mean = np.mean(xx)\n",
        "    y_mean = np.mean(yy)\n",
        "\n",
        "    # find the distance from the mean for each point\n",
        "    x_delta = xx - x_mean\n",
        "    y_delta = yy - y_mean\n",
        "\n",
        "    # find m and b using the equations above\n",
        "    mm = np.sum(x_delta*y_delta)/np.sum(pow(x_delta,2))\n",
        "    bb = y_mean-mm*x_mean\n",
        "\n",
        "    # return a tuple containing m and b\n",
        "    return (mm,bb)"
      ],
      "execution_count": 2,
      "outputs": []
    },
    {
      "cell_type": "code",
      "metadata": {
        "id": "yt3546aUtZZv",
        "colab_type": "code",
        "colab": {
          "base_uri": "https://localhost:8080/",
          "height": 34
        },
        "outputId": "23592f43-37c8-4c45-e683-09de6f776ff7"
      },
      "source": [
        "# Use your function to show the best fit values for our data\n",
        "(mm,bb) = find_best_fit(x_sqft, y_value)\n",
        "fit_str = 'y = {aa:.1f}x + {bb:.1f}'\n",
        "print(fit_str.format(aa=mm,bb=bb))"
      ],
      "execution_count": 3,
      "outputs": [
        {
          "output_type": "stream",
          "text": [
            "y = 134.5x + 71270.5\n"
          ],
          "name": "stdout"
        }
      ]
    },
    {
      "cell_type": "markdown",
      "metadata": {
        "id": "9KyF7mWQtZZy",
        "colab_type": "text"
      },
      "source": [
        "Now we have the best fit trend line that minimizes total error for our data, let's try plotting it and see what it looks like. Since its just an equation, we need to *sample* the curve in order to plot it. To do this, we'll find the difference between the largest and smallest floor area, and divide it into 100 sample points."
      ]
    },
    {
      "cell_type": "code",
      "metadata": {
        "id": "wGWSOYjztZZz",
        "colab_type": "code",
        "colab": {
          "base_uri": "https://localhost:8080/",
          "height": 296
        },
        "outputId": "b8c6c5e3-9732-4c97-b2d7-36b1ed69c324"
      },
      "source": [
        "# Plot the data\n",
        "plt.plot(x_sqft, y_value, 'ro'); plt.xlabel(\"House Square Footage\"); plt.ylabel(\"Market value (USD)\")\n",
        "\n",
        "# Sample the range from minimum to maximum sqft to get 100 points\n",
        "x_start = int(min(x_sqft))\n",
        "x_end = int(max(x_sqft))\n",
        "xList = list(range(x_start,x_end,(x_end-x_start)//100))\n",
        "\n",
        "# Apply the best fit equation to each sample point and plot the result\n",
        "plt.plot(xList,[mm*delX+bb for delX in xList])"
      ],
      "execution_count": 4,
      "outputs": [
        {
          "output_type": "execute_result",
          "data": {
            "text/plain": [
              "[<matplotlib.lines.Line2D at 0x7fb4726eee48>]"
            ]
          },
          "metadata": {
            "tags": []
          },
          "execution_count": 4
        },
        {
          "output_type": "display_data",
          "data": {
            "image/png": "[encoded data removed]",
            "text/plain": [
              "<Figure size 432x288 with 1 Axes>"
            ]
          },
          "metadata": {
            "tags": [],
            "needs_background": "light"
          }
        }
      ]
    },
    {
      "cell_type": "markdown",
      "metadata": {
        "id": "EhKpoWNstZZ1",
        "colab_type": "text"
      },
      "source": [
        "1: Given these parameters, how much should a house with 1600 sqft cost?\n",
        "\n",
        "ANSWER: $286,470.50"
      ]
    },
    {
      "cell_type": "markdown",
      "metadata": {
        "id": "mmGByr7ktZZ2",
        "colab_type": "text"
      },
      "source": [
        "2: From the dataset, how much did a house with 1600 sqft actually cost?\n",
        "\n",
        "ANSWER: $329900.00"
      ]
    },
    {
      "cell_type": "markdown",
      "metadata": {
        "id": "1uDEnoICtZZ2",
        "colab_type": "text"
      },
      "source": [
        "3: Assuming the current 1600 sqft house would sell for as much as the historical one, how much money would we have lost? What percentage of the total price is this?\n",
        "\n",
        "ANSWER: Lost $43429.50, 13% of total price"
      ]
    },
    {
      "cell_type": "markdown",
      "metadata": {
        "id": "HtN9iJfvtZZ3",
        "colab_type": "text"
      },
      "source": [
        "Now compare the values for 𝑚 and 𝑏 that sklearn generated in the tutorial notebook with the values that you found just now with your function. Hopefully they match."
      ]
    },
    {
      "cell_type": "code",
      "metadata": {
        "id": "U-KHot9CtZZ4",
        "colab_type": "code",
        "colab": {
          "base_uri": "https://localhost:8080/",
          "height": 51
        },
        "outputId": "260ab3a4-e44f-4d99-fec8-5cf9f9bb1d45"
      },
      "source": [
        "print(\"Sklearn:\",134.52528772, 71270.492448729)\n",
        "print(\"My function:\",mm,bb)"
      ],
      "execution_count": 5,
      "outputs": [
        {
          "output_type": "stream",
          "text": [
            "Sklearn: 134.52528772 71270.492448729\n",
            "My function: 134.52528772024135 71270.49244872906\n"
          ],
          "name": "stdout"
        }
      ]
    },
    {
      "cell_type": "markdown",
      "metadata": {
        "id": "E4c2nWqQtZZ8",
        "colab_type": "text"
      },
      "source": [
        "---\n",
        "Remember how despite adding an entire new variable, the $R^2$ value barely increased? Let's investigate this further by finding the correlation ($R^2$) value for a regression of square footage vs. number of bedrooms."
      ]
    },
    {
      "cell_type": "code",
      "metadata": {
        "id": "omppLK-0tZZ8",
        "colab_type": "code",
        "colab": {
          "base_uri": "https://localhost:8080/",
          "height": 34
        },
        "outputId": "e57ce8de-f5a3-49ba-ba62-88a74ad9aefe"
      },
      "source": [
        "import sklearn.linear_model as lm\n",
        "\n",
        "# Get the number of bedrooms\n",
        "x_rooms = data_array[:,1]\n",
        "\n",
        "# Create a linear regression model\n",
        "model = lm.LinearRegression()\n",
        "\n",
        "# Reshape the data to the required format for lm's fit function\n",
        "# x_sqft_shaped = x_sqft.reshape(-1,1)\n",
        "x_rooms_shaped = x_rooms.reshape(-1,1)\n",
        "\n",
        "# Fit onto the results\n",
        "floor_rooms = model.fit(x_rooms_shaped,x_sqft)\n",
        "\n",
        "# Pring R^2\n",
        "print(floor_rooms.score(x_rooms_shaped,x_sqft))"
      ],
      "execution_count": 6,
      "outputs": [
        {
          "output_type": "stream",
          "text": [
            "0.31356326993381844\n"
          ],
          "name": "stdout"
        }
      ]
    },
    {
      "cell_type": "markdown",
      "metadata": {
        "id": "au4sMTM7tZZ_",
        "colab_type": "text"
      },
      "source": [
        "Do 2 variables have to be very correlated to reduce their effectiveness together?\n",
        "\n",
        "ANSWER: No"
      ]
    },
    {
      "cell_type": "markdown",
      "metadata": {
        "id": "Xl-NBkn_kiXv",
        "colab_type": "text"
      },
      "source": [
        "\n",
        "##Logistic Regression!\n",
        "\n",
        "We are going to predict wheter or not someone has breast cancer using Logistical Regression! We are going to use sklearn's breast cancer dataset! It is up to you to decide what features to get the best results!"
      ]
    },
    {
      "cell_type": "code",
      "metadata": {
        "id": "QzHqRblJkiGn",
        "colab_type": "code",
        "colab": {
          "base_uri": "https://localhost:8080/",
          "height": 258
        },
        "outputId": "54112e90-1d6f-45ee-c282-90155a6d52a5"
      },
      "source": [
        "#----IMPORTS ----\n",
        "from sklearn.datasets import load_breast_cancer #dataset\n",
        "from sklearn.model_selection import train_test_split\n",
        "from sklearn.linear_model import LogisticRegression\n",
        "\n",
        "data = load_breast_cancer()\n",
        "\n",
        "X_cols = data.data\n",
        "Y_cols = data.target\n",
        "\n",
        "# YOUR CODE HERE\n",
        "X_train, X_test, y_train, y_test = train_test_split(X_cols, Y_cols, test_size = 0.25, random_state = 0 )\n",
        "logreg = LogisticRegression()\n",
        "logreg.fit(X_train, y_train)"
      ],
      "execution_count": 7,
      "outputs": [
        {
          "output_type": "stream",
          "text": [
            "/usr/local/lib/python3.6/dist-packages/sklearn/linear_model/_logistic.py:940: ConvergenceWarning: lbfgs failed to converge (status=1):\n",
            "STOP: TOTAL NO. of ITERATIONS REACHED LIMIT.\n",
            "\n",
            "Increase the number of iterations (max_iter) or scale the data as shown in:\n",
            "    https://scikit-learn.org/stable/modules/preprocessing.html\n",
            "Please also refer to the documentation for alternative solver options:\n",
            "    https://scikit-learn.org/stable/modules/linear_model.html#logistic-regression\n",
            "  extra_warning_msg=_LOGISTIC_SOLVER_CONVERGENCE_MSG)\n"
          ],
          "name": "stderr"
        },
        {
          "output_type": "execute_result",
          "data": {
            "text/plain": [
              "LogisticRegression(C=1.0, class_weight=None, dual=False, fit_intercept=True,\n",
              "                   intercept_scaling=1, l1_ratio=None, max_iter=100,\n",
              "                   multi_class='auto', n_jobs=None, penalty='l2',\n",
              "                   random_state=None, solver='lbfgs', tol=0.0001, verbose=0,\n",
              "                   warm_start=False)"
            ]
          },
          "metadata": {
            "tags": []
          },
          "execution_count": 7
        }
      ]
    },
    {
      "cell_type": "markdown",
      "metadata": {
        "id": "YuAhxVcckhw_",
        "colab_type": "text"
      },
      "source": [
        "Test your logistical regression! You must get an accuracy of > 80%"
      ]
    },
    {
      "cell_type": "code",
      "metadata": {
        "id": "mYk-tBcpkgvL",
        "colab_type": "code",
        "colab": {
          "base_uri": "https://localhost:8080/",
          "height": 34
        },
        "outputId": "108c739e-2f0d-4743-bcfd-deb100ac5979"
      },
      "source": [
        "from sklearn.metrics import accuracy_score\n",
        "\n",
        "y_val_pred = logreg.predict(X_test)\n",
        "print(\"Validation Accuracy is \", accuracy_score(y_test,y_val_pred)*100)"
      ],
      "execution_count": 8,
      "outputs": [
        {
          "output_type": "stream",
          "text": [
            "Validation Accuracy is  95.8041958041958\n"
          ],
          "name": "stdout"
        }
      ]
    }
  ]
}